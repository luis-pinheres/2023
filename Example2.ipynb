{
 "cells": [
  {
   "cell_type": "code",
   "execution_count": 7,
   "id": "5d15e47d",
   "metadata": {},
   "outputs": [
    {
     "name": "stderr",
     "output_type": "stream",
     "text": [
      "Warning in <TROOT::Append>: Replacing existing TH1: hist (Potential memory leak).\n",
      "Warning in <TCanvas::Constructor>: Deleting canvas with same name: canvas\n",
      "Info in <TCanvas::Print>: png file neutron_energies.png has been created\n"
     ]
    }
   ],
   "source": [
    "import ROOT\n",
    "import random\n",
    "\n",
    "# Creamos un histograma con 100 bins desde 0 hasta 10\n",
    "hist = ROOT.TH1F(\"hist\", \"Distribución de energías de neutrones\", 100, 0, 10)\n",
    "\n",
    "# Simulamos la interacción de 1000 neutrones con átomos de hidrógeno\n",
    "for i in range(100000000):\n",
    "    # Generamos una energía aleatoria entre 0 y 10 MeV\n",
    "    energy = random.uniform(0, 10)\n",
    "    \n",
    "    # Calculamos la sección eficaz de dispersión elástica para una energía dada\n",
    "    cross_section = 0.01 * energy\n",
    "    \n",
    "    # Generamos un valor aleatorio de probabilidad de dispersión\n",
    "    prob_scatter = random.uniform(0, 1)\n",
    "    \n",
    "    # Si la probabilidad de dispersión es menor que la sección eficaz, el neutron dispersa\n",
    "    if prob_scatter < cross_section:\n",
    "        # El neutron pierde un 10% de su energía en la dispersión\n",
    "        energy *= 0.9\n",
    "    \n",
    "    # Llenamos el histograma con la energía resultante del neutron\n",
    "    hist.Fill(energy)\n",
    "\n",
    "# Creamos un canvas y dibujamos el histograma\n",
    "canvas = ROOT.TCanvas(\"canvas\", \"Histograma de energías de neutrones\", 800, 600)\n",
    "hist.Draw()\n",
    "\n",
    "# Guardamos la imagen del histograma en un archivo\n",
    "canvas.SaveAs(\"neutron_energies.png\")\n"
   ]
  },
  {
   "cell_type": "code",
   "execution_count": null,
   "id": "32f959f4",
   "metadata": {},
   "outputs": [],
   "source": [
    "import random\n",
    "import time\n",
    "\n",
    "# Constantes del problema\n",
    "neutron_flux = 1e9  # Flujo de neutrones (n/s)\n",
    "neutron_energy = 0.025  # Energía del neutrons (eV)\n",
    "cross_section = 0.1  # Sección eficaz de absorción del hidrógeno (barns)\n",
    "density_soil = 1.5  # Densidad del suelo (g/cm^3)\n",
    "\n",
    "# Función para simular la lectura del sensor de humedad\n",
    "def read_humidity():\n",
    "    # Generar un valor aleatorio de humedad entre 0 y 100\n",
    "    humidity = random.uniform(0, 100)\n",
    "    # Retornar el valor de humedad\n",
    "    return humidity\n",
    "\n",
    "# Función para simular la interacción de los neutrones con los átomos de hidrógeno en el suelo\n",
    "def simulate_neutron_interaction():\n",
    "    # Calcular la probabilidad de absorción del hidrógeno\n",
    "    prob_absorption = cross_section * density_soil * 1e-24\n",
    "    # Generar un número aleatorio entre 0 y 1\n",
    "    r = random.uniform(0, 1)\n",
    "    # Si la probabilidad de absorción es mayor que el número aleatorio, el neutrón es absorbido\n",
    "    if prob_absorption > r:\n",
    "        return True\n",
    "    else:\n",
    "        return False\n",
    "\n",
    "# Función para simular la medición de la humedad\n",
    "del suelo\n",
    "def measure_soil_humidity():\n",
    "    # Contador de neutrones absorbidos\n",
    "    n_absorbed = 0\n",
    "    # Contador de neutrones emitidos\n",
    "    n_emitted = 0\n",
    "    # Realizar 10000 simulaciones de interacción de neutrones\n",
    "    for i in range(10000):\n",
    "        # Generar un neutrón con energía y dirección aleatorias\n",
    "        # (en una implementación real, se necesitaría un generador de neutrones)\n",
    "        energy = neutron_energy\n",
    "        direction = [random.uniform(-1, 1), random.uniform(-1, 1), random.uniform(-1, 1)]\n",
    "        # Verificar si el neutrón es absorbido por un átomo de hidrógeno en el\n"
   ]
  },
  {
   "cell_type": "code",
   "execution_count": 6,
   "id": "639e76d0",
   "metadata": {},
   "outputs": [
    {
     "name": "stdout",
     "output_type": "stream",
     "text": [
      "Humedad del suelo estimada: 0.00%\n"
     ]
    }
   ],
   "source": [
    "import random\n",
    "\n",
    "# Constantes del problema\n",
    "neutron_flux = 1e9  # Flujo de neutrones (n/s)\n",
    "neutron_energy = 0.025  # Energía del neutrón (eV)\n",
    "cross_section = 0.1  # Sección eficaz de absorción del hidrógeno (barns)\n",
    "density_soil = 1.5  # Densidad del suelo (g/cm^3)\n",
    "area = 10000  # Área del suelo (m^2)\n",
    "\n",
    "# Función para simular la interacción de los neutrones con los átomos de hidrógeno en el suelo\n",
    "def simulate_neutron_interaction():\n",
    "    # Calcular la probabilidad de absorción del hidrógeno\n",
    "    prob_absorption = cross_section * density_soil * 1e-24\n",
    "    # Generar un número aleatorio entre 0 y 1\n",
    "    r = random.uniform(0, 1)\n",
    "    # Si la probabilidad de absorción es mayor que el número aleatorio, el neutrón es absorbido\n",
    "    if prob_absorption > r:\n",
    "        return True\n",
    "    else:\n",
    "        return False\n",
    "\n",
    "# Función para estimar la humedad del suelo a partir del número de neutrones absorbidos\n",
    "def estimate_soil_humidity(n_absorbed):\n",
    "    # Calcular la humedad del suelo como la proporción de neutrones absorbidos\n",
    "    humidity = n_absorbed / (neutron_flux * cross_section * density_soil * area * neutron_energy) * 100\n",
    "    return humidity\n",
    "\n",
    "# Generar 1 millón de neutrones con energía y dirección aleatorias\n",
    "n_emitted = 1000000\n",
    "n_absorbed = 0\n",
    "for i in range(n_emitted):\n",
    "    energy = neutron_energy\n",
    "    direction = [random.uniform(-1, 1), random.uniform(-1, 1), random.uniform(-1, 1)]\n",
    "    # Verificar si el neutrón es absorbido por un átomo de hidrógeno en el suelo\n",
    "    if simulate_neutron_interaction():\n",
    "        n_absorbed += 1\n",
    "\n",
    "# Estimar la humedad del suelo a partir del número de neutrones absorbidos\n",
    "soil_humidity = estimate_soil_humidity(n_absorbed)\n",
    "print(f\"Humedad del suelo estimada: {soil_humidity:.2f}%\")\n"
   ]
  },
  {
   "cell_type": "code",
   "execution_count": null,
   "id": "4eaa6e6a",
   "metadata": {},
   "outputs": [],
   "source": []
  }
 ],
 "metadata": {
  "kernelspec": {
   "display_name": "ROOT CERN",
   "language": "python",
   "name": "root"
  },
  "language_info": {
   "codemirror_mode": {
    "name": "ipython",
    "version": 3
   },
   "file_extension": ".py",
   "mimetype": "text/x-python",
   "name": "python",
   "nbconvert_exporter": "python",
   "pygments_lexer": "ipython3",
   "version": "3.8.10"
  }
 },
 "nbformat": 4,
 "nbformat_minor": 5
}
