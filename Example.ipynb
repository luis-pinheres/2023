{
 "cells": [
  {
   "cell_type": "code",
   "execution_count": 2,
   "id": "9e858ee3",
   "metadata": {},
   "outputs": [],
   "source": [
    "import ROOT\n",
    "import numpy as np\n"
   ]
  },
  {
   "cell_type": "code",
   "execution_count": 3,
   "id": "0c59bcf7",
   "metadata": {},
   "outputs": [],
   "source": [
    "def inverse_exponential_energy():\n",
    "    return np.random.exponential(scale=1000)  # Escala en MeV\n"
   ]
  },
  {
   "cell_type": "code",
   "execution_count": 4,
   "id": "260d867a",
   "metadata": {},
   "outputs": [],
   "source": [
    "def simulate_track(length):\n",
    "    # Define la posición inicial de la trayectoria\n",
    "    x0 = np.array([0, 0, -1000])  # En cm\n",
    "\n",
    "    # Define la dirección de la trayectoria\n",
    "    theta = np.random.uniform(0, np.pi)\n",
    "    phi = np.random.uniform(0, 2*np.pi)\n",
    "    direction = np.array([np.sin(theta)*np.cos(phi),\n",
    "                          np.sin(theta)*np.sin(phi),\n",
    "                          np.cos(theta)])\n",
    "\n",
    "    # Calcula la posición final de la trayectoria\n",
    "    xf = x0 + length*direction\n",
    "\n",
    "    # Crea una línea recta entre la posición inicial y final de la trayectoria\n",
    "    track = ROOT.TLine(x0[0], x0[1], xf[0], xf[1])\n",
    "\n",
    "    return track\n"
   ]
  },
  {
   "cell_type": "code",
   "execution_count": 5,
   "id": "16433d94",
   "metadata": {},
   "outputs": [],
   "source": [
    "def simulate_cosmic_event():\n",
    "    # Genera la energía del muón\n",
    "    energy = inverse_exponential_energy()\n",
    "\n",
    "    # Simula la trayectoria del muón\n",
    "    track_length = np.random.uniform(0, 5000)  # En cm\n",
    "    track = simulate_track(track_length)\n",
    "\n",
    "    # Crea un archivo ROOT para almacenar los datos del evento\n",
    "    root_file = ROOT.TFile(\"cosmic_event.root\", \"recreate\")\n",
    "\n",
    "    # Crea un objeto TTree para almacenar los datos del evento\n",
    "    tree = ROOT.TTree(\"cosmic_tree\", \"Cosmic Event\")\n",
    "\n",
    "    # Crea una variable para almacenar la energía del muón\n",
    "    energy_branch = np.zeros(1, dtype=float)\n",
    "    tree.Branch(\"energy\", energy_branch, \"energy/D\")\n",
    "\n",
    "    # Crea una variable para almacenar la longitud de la trayectoria del muón\n",
    "    length_branch = np.zeros(1, dtype=float)\n",
    "    tree.Branch(\"length\", length_branch, \"length/D\")\n",
    "\n",
    "    # Crea una rama para la trayectoria del muón\n",
    "    track_branch = ROOT.TObjArray()\n",
    "    track_branch.SetName(\"track\")\n",
    "    track_branch.Add(track)\n",
    "    tree.Branch(\"track\", track_branch)\n",
    "\n",
    "    # Llena las variables con los datos del evento\n",
    "    energy_branch[0] = energy\n",
    "    length_branch[0] = track_length\n",
    "\n",
    "    # Escribe los datos del evento en el archivo ROOT\n",
    "    tree.Fill()\n",
    "    root_file.Write()\n",
    "    root_file.Close()\n"
   ]
  },
  {
   "cell_type": "code",
   "execution_count": null,
   "id": "3155ae69",
   "metadata": {},
   "outputs": [],
   "source": [
    "for i in range(100000):\n",
    "    simulate_cosmic_event()\n",
    "    #print(\"Simulated event\", i+1)"
   ]
  },
  {
   "cell_type": "code",
   "execution_count": null,
   "id": "3c47f9e4",
   "metadata": {},
   "outputs": [],
   "source": []
  }
 ],
 "metadata": {
  "kernelspec": {
   "display_name": "ROOT CERN",
   "language": "python",
   "name": "root"
  },
  "language_info": {
   "codemirror_mode": {
    "name": "ipython",
    "version": 3
   },
   "file_extension": ".py",
   "mimetype": "text/x-python",
   "name": "python",
   "nbconvert_exporter": "python",
   "pygments_lexer": "ipython3",
   "version": "3.8.10"
  }
 },
 "nbformat": 4,
 "nbformat_minor": 5
}
